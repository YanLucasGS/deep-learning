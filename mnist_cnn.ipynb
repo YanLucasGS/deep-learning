{
 "cells": [
  {
   "cell_type": "code",
   "execution_count": 1,
   "metadata": {},
   "outputs": [],
   "source": [
    "import pandas as pd\n",
    "from keras.datasets import mnist\n",
    "from keras.models import Sequential\n",
    "from keras.layers import Conv2D, MaxPooling2D,Flatten,Dense,Dropout\n",
    "from keras.callbacks import ModelCheckpoint\n",
    "from keras.optimizers import Adam\n",
    "import matplotlib.pyplot as plt\n",
    "import numpy as np"
   ]
  },
  {
   "cell_type": "markdown",
   "metadata": {},
   "source": [
    "# Loading Mnist"
   ]
  },
  {
   "cell_type": "code",
   "execution_count": 2,
   "metadata": {},
   "outputs": [],
   "source": [
    "(train_images, train_labels), (test_images, test_labels) = mnist.load_data()"
   ]
  },
  {
   "cell_type": "markdown",
   "metadata": {},
   "source": [
    "## Checking for the first image"
   ]
  },
  {
   "cell_type": "code",
   "execution_count": 3,
   "metadata": {},
   "outputs": [
    {
     "name": "stdout",
     "output_type": "stream",
     "text": [
      "5\n"
     ]
    },
    {
     "data": {
      "image/png": "[encoded data removed]",
      "text/plain": [
       "<Figure size 640x480 with 1 Axes>"
      ]
     },
     "metadata": {},
     "output_type": "display_data"
    }
   ],
   "source": [
    "plt.imshow(train_images[0],cmap='gray')\n",
    "print(train_labels[0])\n",
    "plt.show()"
   ]
  },
  {
   "cell_type": "markdown",
   "metadata": {},
   "source": [
    "# Generating the Model"
   ]
  },
  {
   "cell_type": "code",
   "execution_count": 4,
   "metadata": {},
   "outputs": [
    {
     "name": "stdout",
     "output_type": "stream",
     "text": [
      "Model: \"sequential\"\n",
      "_________________________________________________________________\n",
      " Layer (type)                Output Shape              Param #   \n",
      "=================================================================\n",
      " conv2d (Conv2D)             (None, 28, 28, 32)        320       \n",
      "                                                                 \n",
      " max_pooling2d (MaxPooling2  (None, 14, 14, 32)        0         \n",
      " D)                                                              \n",
      "                                                                 \n",
      " conv2d_1 (Conv2D)           (None, 14, 14, 64)        18496     \n",
      "                                                                 \n",
      " max_pooling2d_1 (MaxPoolin  (None, 7, 7, 64)          0         \n",
      " g2D)                                                            \n",
      "                                                                 \n",
      " flatten (Flatten)           (None, 3136)              0         \n",
      "                                                                 \n",
      " dropout (Dropout)           (None, 3136)              0         \n",
      "                                                                 \n",
      " dense (Dense)               (None, 64)                200768    \n",
      "                                                                 \n",
      " dropout_1 (Dropout)         (None, 64)                0         \n",
      "                                                                 \n",
      " dense_1 (Dense)             (None, 10)                650       \n",
      "                                                                 \n",
      "=================================================================\n",
      "Total params: 220234 (860.29 KB)\n",
      "Trainable params: 220234 (860.29 KB)\n",
      "Non-trainable params: 0 (0.00 Byte)\n",
      "_________________________________________________________________\n"
     ]
    }
   ],
   "source": [
    "model = Sequential()\n",
    "model.add(Conv2D(input_shape=(28,28,1),filters=32,kernel_size=(3,3),strides=1,padding='same',activation='relu'))\n",
    "model.add(MaxPooling2D(pool_size=(2,2)))\n",
    "model.add(Conv2D(filters=64,kernel_size=(3,3),strides=1,padding='same',activation='relu'))\n",
    "model.add(MaxPooling2D(pool_size=(2,2)))\n",
    "model.add(Flatten())\n",
    "model.add(Dropout(0.3))\n",
    "model.add(Dense(64,activation='relu'))\n",
    "model.add(Dropout(0.5))\n",
    "model.add(Dense(10,activation='softmax'))\n",
    "model.summary()\n"
   ]
  },
  {
   "cell_type": "markdown",
   "metadata": {},
   "source": [
    "## Model Training"
   ]
  },
  {
   "cell_type": "code",
   "execution_count": 5,
   "metadata": {},
   "outputs": [
    {
     "name": "stdout",
     "output_type": "stream",
     "text": [
      "Epoch 1/25\n",
      "\n",
      "Epoch 1: val_loss improved from inf to 0.68782, saving model to cnns_best_mlp.hdf5\n",
      "1500/1500 - 43s - loss: 2.1611 - accuracy: 0.3666 - val_loss: 0.6878 - val_accuracy: 0.8385 - 43s/epoch - 29ms/step\n",
      "Epoch 2/25\n"
     ]
    },
    {
     "name": "stderr",
     "output_type": "stream",
     "text": [
      "c:\\Users\\yanlu\\AppData\\Local\\Programs\\Python\\Python311\\Lib\\site-packages\\keras\\src\\engine\\training.py:3000: UserWarning: You are saving your model as an HDF5 file via `model.save()`. This file format is considered legacy. We recommend using instead the native Keras format, e.g. `model.save('my_model.keras')`.\n",
      "  saving_api.save_model(\n"
     ]
    },
    {
     "name": "stdout",
     "output_type": "stream",
     "text": [
      "\n",
      "Epoch 2: val_loss improved from 0.68782 to 0.23301, saving model to cnns_best_mlp.hdf5\n",
      "1500/1500 - 47s - loss: 0.9528 - accuracy: 0.6741 - val_loss: 0.2330 - val_accuracy: 0.9461 - 47s/epoch - 31ms/step\n",
      "Epoch 3/25\n",
      "\n",
      "Epoch 3: val_loss improved from 0.23301 to 0.12156, saving model to cnns_best_mlp.hdf5\n",
      "1500/1500 - 54s - loss: 0.5311 - accuracy: 0.8266 - val_loss: 0.1216 - val_accuracy: 0.9646 - 54s/epoch - 36ms/step\n",
      "Epoch 4/25\n",
      "\n",
      "Epoch 4: val_loss improved from 0.12156 to 0.09029, saving model to cnns_best_mlp.hdf5\n",
      "1500/1500 - 50s - loss: 0.3489 - accuracy: 0.8889 - val_loss: 0.0903 - val_accuracy: 0.9749 - 50s/epoch - 33ms/step\n",
      "Epoch 5/25\n",
      "\n",
      "Epoch 5: val_loss improved from 0.09029 to 0.07398, saving model to cnns_best_mlp.hdf5\n",
      "1500/1500 - 52s - loss: 0.2615 - accuracy: 0.9180 - val_loss: 0.0740 - val_accuracy: 0.9803 - 52s/epoch - 35ms/step\n",
      "Epoch 6/25\n",
      "\n",
      "Epoch 6: val_loss improved from 0.07398 to 0.07146, saving model to cnns_best_mlp.hdf5\n",
      "1500/1500 - 50s - loss: 0.2068 - accuracy: 0.9372 - val_loss: 0.0715 - val_accuracy: 0.9804 - 50s/epoch - 33ms/step\n",
      "Epoch 7/25\n",
      "\n",
      "Epoch 7: val_loss improved from 0.07146 to 0.05648, saving model to cnns_best_mlp.hdf5\n",
      "1500/1500 - 49s - loss: 0.1725 - accuracy: 0.9473 - val_loss: 0.0565 - val_accuracy: 0.9846 - 49s/epoch - 32ms/step\n",
      "Epoch 8/25\n",
      "\n",
      "Epoch 8: val_loss improved from 0.05648 to 0.05491, saving model to cnns_best_mlp.hdf5\n",
      "1500/1500 - 49s - loss: 0.1442 - accuracy: 0.9561 - val_loss: 0.0549 - val_accuracy: 0.9852 - 49s/epoch - 33ms/step\n",
      "Epoch 9/25\n",
      "\n",
      "Epoch 9: val_loss improved from 0.05491 to 0.04929, saving model to cnns_best_mlp.hdf5\n",
      "1500/1500 - 46s - loss: 0.1281 - accuracy: 0.9605 - val_loss: 0.0493 - val_accuracy: 0.9863 - 46s/epoch - 31ms/step\n",
      "Epoch 10/25\n",
      "\n",
      "Epoch 10: val_loss improved from 0.04929 to 0.04661, saving model to cnns_best_mlp.hdf5\n",
      "1500/1500 - 47s - loss: 0.1162 - accuracy: 0.9646 - val_loss: 0.0466 - val_accuracy: 0.9880 - 47s/epoch - 31ms/step\n",
      "Epoch 11/25\n",
      "\n",
      "Epoch 11: val_loss did not improve from 0.04661\n",
      "1500/1500 - 43s - loss: 0.1060 - accuracy: 0.9677 - val_loss: 0.0467 - val_accuracy: 0.9884 - 43s/epoch - 28ms/step\n",
      "Epoch 12/25\n",
      "\n",
      "Epoch 12: val_loss improved from 0.04661 to 0.04377, saving model to cnns_best_mlp.hdf5\n",
      "1500/1500 - 44s - loss: 0.0991 - accuracy: 0.9689 - val_loss: 0.0438 - val_accuracy: 0.9889 - 44s/epoch - 29ms/step\n",
      "Epoch 13/25\n",
      "\n",
      "Epoch 13: val_loss improved from 0.04377 to 0.04263, saving model to cnns_best_mlp.hdf5\n",
      "1500/1500 - 42s - loss: 0.0885 - accuracy: 0.9724 - val_loss: 0.0426 - val_accuracy: 0.9891 - 42s/epoch - 28ms/step\n",
      "Epoch 14/25\n",
      "\n",
      "Epoch 14: val_loss did not improve from 0.04263\n",
      "1500/1500 - 43s - loss: 0.0829 - accuracy: 0.9751 - val_loss: 0.0457 - val_accuracy: 0.9888 - 43s/epoch - 28ms/step\n",
      "Epoch 15/25\n",
      "\n",
      "Epoch 15: val_loss improved from 0.04263 to 0.04027, saving model to cnns_best_mlp.hdf5\n",
      "1500/1500 - 42s - loss: 0.0785 - accuracy: 0.9755 - val_loss: 0.0403 - val_accuracy: 0.9897 - 42s/epoch - 28ms/step\n",
      "Epoch 16/25\n",
      "\n",
      "Epoch 16: val_loss did not improve from 0.04027\n",
      "1500/1500 - 42s - loss: 0.0739 - accuracy: 0.9771 - val_loss: 0.0407 - val_accuracy: 0.9895 - 42s/epoch - 28ms/step\n",
      "Epoch 17/25\n",
      "\n",
      "Epoch 17: val_loss improved from 0.04027 to 0.03913, saving model to cnns_best_mlp.hdf5\n",
      "1500/1500 - 39s - loss: 0.0683 - accuracy: 0.9787 - val_loss: 0.0391 - val_accuracy: 0.9905 - 39s/epoch - 26ms/step\n",
      "Epoch 18/25\n",
      "\n",
      "Epoch 18: val_loss did not improve from 0.03913\n",
      "1500/1500 - 36s - loss: 0.0641 - accuracy: 0.9804 - val_loss: 0.0431 - val_accuracy: 0.9889 - 36s/epoch - 24ms/step\n",
      "Epoch 19/25\n",
      "\n",
      "Epoch 19: val_loss did not improve from 0.03913\n",
      "1500/1500 - 35s - loss: 0.0630 - accuracy: 0.9804 - val_loss: 0.0412 - val_accuracy: 0.9898 - 35s/epoch - 23ms/step\n",
      "Epoch 20/25\n",
      "\n",
      "Epoch 20: val_loss improved from 0.03913 to 0.03710, saving model to cnns_best_mlp.hdf5\n",
      "1500/1500 - 38s - loss: 0.0592 - accuracy: 0.9814 - val_loss: 0.0371 - val_accuracy: 0.9907 - 38s/epoch - 26ms/step\n",
      "Epoch 21/25\n",
      "\n",
      "Epoch 21: val_loss improved from 0.03710 to 0.03614, saving model to cnns_best_mlp.hdf5\n",
      "1500/1500 - 39s - loss: 0.0570 - accuracy: 0.9819 - val_loss: 0.0361 - val_accuracy: 0.9918 - 39s/epoch - 26ms/step\n",
      "Epoch 22/25\n",
      "\n",
      "Epoch 22: val_loss did not improve from 0.03614\n",
      "1500/1500 - 38s - loss: 0.0556 - accuracy: 0.9823 - val_loss: 0.0410 - val_accuracy: 0.9903 - 38s/epoch - 25ms/step\n",
      "Epoch 23/25\n",
      "\n",
      "Epoch 23: val_loss did not improve from 0.03614\n",
      "1500/1500 - 38s - loss: 0.0528 - accuracy: 0.9833 - val_loss: 0.0382 - val_accuracy: 0.9912 - 38s/epoch - 25ms/step\n",
      "Epoch 24/25\n",
      "\n",
      "Epoch 24: val_loss improved from 0.03614 to 0.03596, saving model to cnns_best_mlp.hdf5\n",
      "1500/1500 - 39s - loss: 0.0520 - accuracy: 0.9838 - val_loss: 0.0360 - val_accuracy: 0.9918 - 39s/epoch - 26ms/step\n",
      "Epoch 25/25\n",
      "\n",
      "Epoch 25: val_loss did not improve from 0.03596\n",
      "1500/1500 - 42s - loss: 0.0481 - accuracy: 0.9845 - val_loss: 0.0376 - val_accuracy: 0.9910 - 42s/epoch - 28ms/step\n"
     ]
    }
   ],
   "source": [
    "optimizer = Adam(learning_rate=0.0001)\n",
    "model.compile(optimizer=optimizer,\n",
    "              loss='sparse_categorical_crossentropy',  # for integer labels\n",
    "              metrics=['accuracy'])\n",
    "checkpointer = ModelCheckpoint(filepath='cnns_best_mlp.hdf5',verbose=1,save_best_only=True)\n",
    "history = model.fit(train_images, train_labels, \n",
    "          callbacks=[checkpointer],\n",
    "          verbose=2,\n",
    "          epochs=25,\n",
    "          batch_size=32,\n",
    "          validation_split=0.2)"
   ]
  },
  {
   "cell_type": "markdown",
   "metadata": {},
   "source": [
    "# Checking Results"
   ]
  },
  {
   "cell_type": "code",
   "execution_count": 6,
   "metadata": {},
   "outputs": [
    {
     "data": {
      "image/png": "[encoded data removed]",
      "text/plain": [
       "<Figure size 1000x600 with 1 Axes>"
      ]
     },
     "metadata": {},
     "output_type": "display_data"
    }
   ],
   "source": [
    "fig,ax = plt.subplots(1,1,figsize=(10,6))\n",
    "# ['loss', 'accuracy', 'val_loss', 'val_accuracy']\n",
    "# ax.plot(history.history['val_accuracy'])\n",
    "ax.plot(history.history['val_loss'])\n",
    "ax.set_title('Validation Loss')\n",
    "\n",
    "plt.show()"
   ]
  },
  {
   "cell_type": "code",
   "execution_count": 7,
   "metadata": {},
   "outputs": [
    {
     "name": "stdout",
     "output_type": "stream",
     "text": [
      "313/313 [==============================] - 2s 7ms/step - loss: 0.0303 - accuracy: 0.9912\n",
      "Test accuracy: 0.9911999702453613\n"
     ]
    }
   ],
   "source": [
    "test_loss, test_acc = model.evaluate(test_images, test_labels)\n",
    "print(f'Test accuracy: {test_acc}')"
   ]
  },
  {
   "cell_type": "markdown",
   "metadata": {},
   "source": [
    "# Check for prediction"
   ]
  },
  {
   "cell_type": "code",
   "execution_count": 8,
   "metadata": {},
   "outputs": [
    {
     "name": "stdout",
     "output_type": "stream",
     "text": [
      "313/313 [==============================] - 2s 6ms/step\n"
     ]
    }
   ],
   "source": [
    "prediction = model.predict(test_images)\n",
    "predicted_classes = np.argmax(prediction, axis=1)\n",
    "# probability_df = pd.DataFrame(prediction.T,columns=['Probability'])\n",
    "# probability_df['Probability'] = probability_df['Probability'].round(2)\n",
    "# probability_df"
   ]
  },
  {
   "cell_type": "code",
   "execution_count": 9,
   "metadata": {},
   "outputs": [],
   "source": [
    "results = pd.DataFrame({'predicted':predicted_classes,'labels':test_labels})\n",
    "results['comparison'] = results['predicted'] == results['labels']"
   ]
  },
  {
   "cell_type": "code",
   "execution_count": 13,
   "metadata": {},
   "outputs": [
    {
     "data": {
      "text/html": [
       "<div>\n",
       "<style scoped>\n",
       "    .dataframe tbody tr th:only-of-type {\n",
       "        vertical-align: middle;\n",
       "    }\n",
       "\n",
       "    .dataframe tbody tr th {\n",
       "        vertical-align: top;\n",
       "    }\n",
       "\n",
       "    .dataframe thead th {\n",
       "        text-align: right;\n",
       "    }\n",
       "</style>\n",
       "<table border=\"1\" class=\"dataframe\">\n",
       "  <thead>\n",
       "    <tr style=\"text-align: right;\">\n",
       "      <th></th>\n",
       "      <th>predicted</th>\n",
       "      <th>labels</th>\n",
       "      <th>comparison</th>\n",
       "    </tr>\n",
       "  </thead>\n",
       "  <tbody>\n",
       "    <tr>\n",
       "      <th>9587</th>\n",
       "      <td>4</td>\n",
       "      <td>9</td>\n",
       "      <td>False</td>\n",
       "    </tr>\n",
       "    <tr>\n",
       "      <th>9634</th>\n",
       "      <td>2</td>\n",
       "      <td>0</td>\n",
       "      <td>False</td>\n",
       "    </tr>\n",
       "    <tr>\n",
       "      <th>9692</th>\n",
       "      <td>7</td>\n",
       "      <td>9</td>\n",
       "      <td>False</td>\n",
       "    </tr>\n",
       "    <tr>\n",
       "      <th>9729</th>\n",
       "      <td>6</td>\n",
       "      <td>5</td>\n",
       "      <td>False</td>\n",
       "    </tr>\n",
       "    <tr>\n",
       "      <th>9839</th>\n",
       "      <td>7</td>\n",
       "      <td>2</td>\n",
       "      <td>False</td>\n",
       "    </tr>\n",
       "  </tbody>\n",
       "</table>\n",
       "</div>"
      ],
      "text/plain": [
       "      predicted  labels  comparison\n",
       "9587          4       9       False\n",
       "9634          2       0       False\n",
       "9692          7       9       False\n",
       "9729          6       5       False\n",
       "9839          7       2       False"
      ]
     },
     "execution_count": 13,
     "metadata": {},
     "output_type": "execute_result"
    }
   ],
   "source": [
    "results[results['comparison']==False].tail()"
   ]
  },
  {
   "cell_type": "code",
   "execution_count": 14,
   "metadata": {},
   "outputs": [
    {
     "data": {
      "image/png": "[encoded data removed]",
      "text/plain": [
       "<Figure size 640x480 with 1 Axes>"
      ]
     },
     "metadata": {},
     "output_type": "display_data"
    }
   ],
   "source": [
    "plt.imshow(test_images[9729],cmap='gray')\n",
    "plt.show()"
   ]
  },
  {
   "cell_type": "code",
   "execution_count": null,
   "metadata": {},
   "outputs": [],
   "source": []
  }
 ],
 "metadata": {
  "kernelspec": {
   "display_name": "Python 3",
   "language": "python",
   "name": "python3"
  },
  "language_info": {
   "codemirror_mode": {
    "name": "ipython",
    "version": 3
   },
   "file_extension": ".py",
   "mimetype": "text/x-python",
   "name": "python",
   "nbconvert_exporter": "python",
   "pygments_lexer": "ipython3",
   "version": "3.11.2"
  }
 },
 "nbformat": 4,
 "nbformat_minor": 2
}
