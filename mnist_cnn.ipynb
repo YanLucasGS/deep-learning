{
 "cells": [
  {
   "cell_type": "code",
   "execution_count": 15,
   "metadata": {},
   "outputs": [],
   "source": [
    "import pandas as pd\n",
    "from keras.datasets import mnist\n",
    "from keras.models import Sequential\n",
    "from keras.layers import Conv2D, MaxPooling2D,Flatten,Dense,Dropout\n",
    "from keras.callbacks import ModelCheckpoint\n",
    "from keras.optimizers import Adam\n",
    "import matplotlib.pyplot as plt\n",
    "import numpy as np"
   ]
  },
  {
   "cell_type": "markdown",
   "metadata": {},
   "source": [
    "# Loading Mnist"
   ]
  },
  {
   "cell_type": "code",
   "execution_count": 2,
   "metadata": {},
   "outputs": [],
   "source": [
    "(train_images, train_labels), (test_images, test_labels) = mnist.load_data()"
   ]
  },
  {
   "cell_type": "markdown",
   "metadata": {},
   "source": [
    "## Checking for the first image"
   ]
  },
  {
   "cell_type": "code",
   "execution_count": 3,
   "metadata": {},
   "outputs": [
    {
     "name": "stdout",
     "output_type": "stream",
     "text": [
      "5\n"
     ]
    },
    {
     "data": {
      "image/png": "[encoded data removed]",
      "text/plain": [
       "<Figure size 640x480 with 1 Axes>"
      ]
     },
     "metadata": {},
     "output_type": "display_data"
    }
   ],
   "source": [
    "plt.imshow(train_images[0],cmap='gray')\n",
    "print(train_labels[0])\n",
    "plt.show()"
   ]
  },
  {
   "cell_type": "markdown",
   "metadata": {},
   "source": [
    "# Generating the Model"
   ]
  },
  {
   "cell_type": "code",
   "execution_count": 6,
   "metadata": {},
   "outputs": [
    {
     "name": "stdout",
     "output_type": "stream",
     "text": [
      "Model: \"sequential_2\"\n",
      "_________________________________________________________________\n",
      " Layer (type)                Output Shape              Param #   \n",
      "=================================================================\n",
      " conv2d_1 (Conv2D)           (None, 28, 28, 32)        320       \n",
      "                                                                 \n",
      " max_pooling2d (MaxPooling2  (None, 14, 14, 32)        0         \n",
      " D)                                                              \n",
      "                                                                 \n",
      " conv2d_2 (Conv2D)           (None, 14, 14, 64)        18496     \n",
      "                                                                 \n",
      " max_pooling2d_1 (MaxPoolin  (None, 7, 7, 64)          0         \n",
      " g2D)                                                            \n",
      "                                                                 \n",
      " flatten (Flatten)           (None, 3136)              0         \n",
      "                                                                 \n",
      " dense (Dense)               (None, 64)                200768    \n",
      "                                                                 \n",
      " dense_1 (Dense)             (None, 10)                650       \n",
      "                                                                 \n",
      "=================================================================\n",
      "Total params: 220234 (860.29 KB)\n",
      "Trainable params: 220234 (860.29 KB)\n",
      "Non-trainable params: 0 (0.00 Byte)\n",
      "_________________________________________________________________\n"
     ]
    }
   ],
   "source": [
    "model = Sequential()\n",
    "model.add(Conv2D(input_shape=(28,28,1),filters=32,kernel_size=(3,3),strides=1,padding='same',activation='relu'))\n",
    "model.add(MaxPooling2D(pool_size=(2,2)))\n",
    "model.add(Conv2D(filters=64,kernel_size=(3,3),strides=1,padding='same',activation='relu'))\n",
    "model.add(MaxPooling2D(pool_size=(2,2)))\n",
    "model.add(Flatten())\n",
    "model.add(Dense(64,activation='relu'))\n",
    "model.add(Dense(10,activation='softmax'))\n",
    "model.summary()\n"
   ]
  },
  {
   "cell_type": "markdown",
   "metadata": {},
   "source": [
    "## Model Training"
   ]
  },
  {
   "cell_type": "code",
   "execution_count": 7,
   "metadata": {},
   "outputs": [
    {
     "name": "stdout",
     "output_type": "stream",
     "text": [
      "Epoch 1/25\n",
      "\n",
      "Epoch 1: val_loss improved from inf to 0.19120, saving model to cnns_best_mlp.hdf5\n",
      "1500/1500 - 31s - loss: 0.5922 - accuracy: 0.8850 - val_loss: 0.1912 - val_accuracy: 0.9482 - 31s/epoch - 21ms/step\n",
      "Epoch 2/25\n"
     ]
    },
    {
     "name": "stderr",
     "output_type": "stream",
     "text": [
      "c:\\Users\\yanlu\\AppData\\Local\\Programs\\Python\\Python311\\Lib\\site-packages\\keras\\src\\engine\\training.py:3000: UserWarning: You are saving your model as an HDF5 file via `model.save()`. This file format is considered legacy. We recommend using instead the native Keras format, e.g. `model.save('my_model.keras')`.\n",
      "  saving_api.save_model(\n"
     ]
    },
    {
     "name": "stdout",
     "output_type": "stream",
     "text": [
      "\n",
      "Epoch 2: val_loss improved from 0.19120 to 0.11507, saving model to cnns_best_mlp.hdf5\n",
      "1500/1500 - 38s - loss: 0.1241 - accuracy: 0.9632 - val_loss: 0.1151 - val_accuracy: 0.9682 - 38s/epoch - 25ms/step\n",
      "Epoch 3/25\n",
      "\n",
      "Epoch 3: val_loss improved from 0.11507 to 0.10919, saving model to cnns_best_mlp.hdf5\n",
      "1500/1500 - 38s - loss: 0.0725 - accuracy: 0.9781 - val_loss: 0.1092 - val_accuracy: 0.9693 - 38s/epoch - 25ms/step\n",
      "Epoch 4/25\n",
      "\n",
      "Epoch 4: val_loss improved from 0.10919 to 0.07293, saving model to cnns_best_mlp.hdf5\n",
      "1500/1500 - 36s - loss: 0.0488 - accuracy: 0.9843 - val_loss: 0.0729 - val_accuracy: 0.9795 - 36s/epoch - 24ms/step\n",
      "Epoch 5/25\n",
      "\n",
      "Epoch 5: val_loss did not improve from 0.07293\n",
      "1500/1500 - 39s - loss: 0.0340 - accuracy: 0.9893 - val_loss: 0.0774 - val_accuracy: 0.9801 - 39s/epoch - 26ms/step\n",
      "Epoch 6/25\n",
      "\n",
      "Epoch 6: val_loss did not improve from 0.07293\n",
      "1500/1500 - 43s - loss: 0.0262 - accuracy: 0.9916 - val_loss: 0.0837 - val_accuracy: 0.9785 - 43s/epoch - 29ms/step\n",
      "Epoch 7/25\n",
      "\n",
      "Epoch 7: val_loss did not improve from 0.07293\n",
      "1500/1500 - 36s - loss: 0.0197 - accuracy: 0.9935 - val_loss: 0.0800 - val_accuracy: 0.9811 - 36s/epoch - 24ms/step\n",
      "Epoch 8/25\n",
      "\n",
      "Epoch 8: val_loss improved from 0.07293 to 0.06364, saving model to cnns_best_mlp.hdf5\n",
      "1500/1500 - 36s - loss: 0.0148 - accuracy: 0.9949 - val_loss: 0.0636 - val_accuracy: 0.9845 - 36s/epoch - 24ms/step\n",
      "Epoch 9/25\n",
      "\n",
      "Epoch 9: val_loss did not improve from 0.06364\n",
      "1500/1500 - 36s - loss: 0.0120 - accuracy: 0.9958 - val_loss: 0.0655 - val_accuracy: 0.9847 - 36s/epoch - 24ms/step\n",
      "Epoch 10/25\n",
      "\n",
      "Epoch 10: val_loss did not improve from 0.06364\n",
      "1500/1500 - 32s - loss: 0.0103 - accuracy: 0.9963 - val_loss: 0.0781 - val_accuracy: 0.9823 - 32s/epoch - 22ms/step\n",
      "Epoch 11/25\n",
      "\n",
      "Epoch 11: val_loss did not improve from 0.06364\n",
      "1500/1500 - 32s - loss: 0.0081 - accuracy: 0.9968 - val_loss: 0.0781 - val_accuracy: 0.9837 - 32s/epoch - 21ms/step\n",
      "Epoch 12/25\n",
      "\n",
      "Epoch 12: val_loss did not improve from 0.06364\n",
      "1500/1500 - 32s - loss: 0.0058 - accuracy: 0.9983 - val_loss: 0.0643 - val_accuracy: 0.9855 - 32s/epoch - 21ms/step\n",
      "Epoch 13/25\n",
      "\n",
      "Epoch 13: val_loss improved from 0.06364 to 0.06286, saving model to cnns_best_mlp.hdf5\n",
      "1500/1500 - 32s - loss: 0.0084 - accuracy: 0.9971 - val_loss: 0.0629 - val_accuracy: 0.9869 - 32s/epoch - 21ms/step\n",
      "Epoch 14/25\n",
      "\n",
      "Epoch 14: val_loss did not improve from 0.06286\n",
      "1500/1500 - 32s - loss: 0.0061 - accuracy: 0.9978 - val_loss: 0.0681 - val_accuracy: 0.9842 - 32s/epoch - 22ms/step\n",
      "Epoch 15/25\n",
      "\n",
      "Epoch 15: val_loss did not improve from 0.06286\n",
      "1500/1500 - 32s - loss: 0.0045 - accuracy: 0.9985 - val_loss: 0.1128 - val_accuracy: 0.9801 - 32s/epoch - 21ms/step\n",
      "Epoch 16/25\n",
      "\n",
      "Epoch 16: val_loss did not improve from 0.06286\n",
      "1500/1500 - 32s - loss: 0.0042 - accuracy: 0.9988 - val_loss: 0.0660 - val_accuracy: 0.9878 - 32s/epoch - 21ms/step\n",
      "Epoch 17/25\n",
      "\n",
      "Epoch 17: val_loss did not improve from 0.06286\n",
      "1500/1500 - 32s - loss: 0.0045 - accuracy: 0.9985 - val_loss: 0.0721 - val_accuracy: 0.9862 - 32s/epoch - 22ms/step\n",
      "Epoch 18/25\n",
      "\n",
      "Epoch 18: val_loss did not improve from 0.06286\n",
      "1500/1500 - 33s - loss: 0.0045 - accuracy: 0.9984 - val_loss: 0.0784 - val_accuracy: 0.9866 - 33s/epoch - 22ms/step\n",
      "Epoch 19/25\n",
      "\n",
      "Epoch 19: val_loss did not improve from 0.06286\n",
      "1500/1500 - 33s - loss: 0.0039 - accuracy: 0.9987 - val_loss: 0.0711 - val_accuracy: 0.9880 - 33s/epoch - 22ms/step\n",
      "Epoch 20/25\n",
      "\n",
      "Epoch 20: val_loss did not improve from 0.06286\n",
      "1500/1500 - 32s - loss: 0.0031 - accuracy: 0.9991 - val_loss: 0.0811 - val_accuracy: 0.9847 - 32s/epoch - 21ms/step\n",
      "Epoch 21/25\n",
      "\n",
      "Epoch 21: val_loss did not improve from 0.06286\n",
      "1500/1500 - 32s - loss: 0.0042 - accuracy: 0.9985 - val_loss: 0.0810 - val_accuracy: 0.9872 - 32s/epoch - 21ms/step\n",
      "Epoch 22/25\n",
      "\n",
      "Epoch 22: val_loss did not improve from 0.06286\n",
      "1500/1500 - 32s - loss: 0.0025 - accuracy: 0.9990 - val_loss: 0.0716 - val_accuracy: 0.9878 - 32s/epoch - 22ms/step\n",
      "Epoch 23/25\n",
      "\n",
      "Epoch 23: val_loss did not improve from 0.06286\n",
      "1500/1500 - 33s - loss: 0.0029 - accuracy: 0.9991 - val_loss: 0.0750 - val_accuracy: 0.9874 - 33s/epoch - 22ms/step\n",
      "Epoch 24/25\n",
      "\n",
      "Epoch 24: val_loss did not improve from 0.06286\n",
      "1500/1500 - 32s - loss: 0.0047 - accuracy: 0.9986 - val_loss: 0.0755 - val_accuracy: 0.9868 - 32s/epoch - 21ms/step\n",
      "Epoch 25/25\n",
      "\n",
      "Epoch 25: val_loss did not improve from 0.06286\n",
      "1500/1500 - 32s - loss: 0.0018 - accuracy: 0.9995 - val_loss: 0.0677 - val_accuracy: 0.9887 - 32s/epoch - 21ms/step\n"
     ]
    }
   ],
   "source": [
    "optimizer = Adam(learning_rate=0.0001)\n",
    "model.compile(optimizer=optimizer,\n",
    "              loss='sparse_categorical_crossentropy',  # for integer labels\n",
    "              metrics=['accuracy'])\n",
    "checkpointer = ModelCheckpoint(filepath='cnns_best_mlp.hdf5',verbose=1,save_best_only=True)\n",
    "history = model.fit(train_images, train_labels, \n",
    "          callbacks=[checkpointer],\n",
    "          verbose=2,\n",
    "          epochs=25,\n",
    "          batch_size=32,\n",
    "          validation_split=0.2)"
   ]
  },
  {
   "cell_type": "markdown",
   "metadata": {},
   "source": [
    "# Checking Results"
   ]
  },
  {
   "cell_type": "code",
   "execution_count": 8,
   "metadata": {},
   "outputs": [
    {
     "data": {
      "image/png": "[encoded data removed]",
      "text/plain": [
       "<Figure size 1000x600 with 1 Axes>"
      ]
     },
     "metadata": {},
     "output_type": "display_data"
    }
   ],
   "source": [
    "fig,ax = plt.subplots(1,1,figsize=(10,6))\n",
    "# ['loss', 'accuracy', 'val_loss', 'val_accuracy']\n",
    "# ax.plot(history.history['val_accuracy'])\n",
    "ax.plot(history.history['val_loss'])\n",
    "ax.set_title('Validation Loss')\n",
    "\n",
    "plt.show()"
   ]
  },
  {
   "cell_type": "code",
   "execution_count": 9,
   "metadata": {},
   "outputs": [
    {
     "name": "stdout",
     "output_type": "stream",
     "text": [
      "313/313 [==============================] - 2s 5ms/step - loss: 0.0708 - accuracy: 0.9871\n",
      "Test accuracy: 0.9871000051498413\n"
     ]
    }
   ],
   "source": [
    "test_loss, test_acc = model.evaluate(test_images, test_labels)\n",
    "print(f'Test accuracy: {test_acc}')"
   ]
  },
  {
   "cell_type": "markdown",
   "metadata": {},
   "source": [
    "# Check for prediction"
   ]
  },
  {
   "cell_type": "code",
   "execution_count": 16,
   "metadata": {},
   "outputs": [
    {
     "name": "stdout",
     "output_type": "stream",
     "text": [
      "313/313 [==============================] - 2s 5ms/step\n"
     ]
    }
   ],
   "source": [
    "prediction = model.predict(test_images)\n",
    "predicted_classes = np.argmax(prediction, axis=1)\n",
    "# probability_df = pd.DataFrame(prediction.T,columns=['Probability'])\n",
    "# probability_df['Probability'] = probability_df['Probability'].round(2)\n",
    "# probability_df"
   ]
  },
  {
   "cell_type": "code",
   "execution_count": 23,
   "metadata": {},
   "outputs": [],
   "source": [
    "results = pd.DataFrame({'predicted':predicted_classes,'labels':test_labels})\n",
    "results['comparison'] = results['predicted'] == results['labels']"
   ]
  },
  {
   "cell_type": "code",
   "execution_count": 34,
   "metadata": {},
   "outputs": [
    {
     "data": {
      "text/html": [
       "<div>\n",
       "<style scoped>\n",
       "    .dataframe tbody tr th:only-of-type {\n",
       "        vertical-align: middle;\n",
       "    }\n",
       "\n",
       "    .dataframe tbody tr th {\n",
       "        vertical-align: top;\n",
       "    }\n",
       "\n",
       "    .dataframe thead th {\n",
       "        text-align: right;\n",
       "    }\n",
       "</style>\n",
       "<table border=\"1\" class=\"dataframe\">\n",
       "  <thead>\n",
       "    <tr style=\"text-align: right;\">\n",
       "      <th></th>\n",
       "      <th>predicted</th>\n",
       "      <th>labels</th>\n",
       "      <th>comparison</th>\n",
       "    </tr>\n",
       "  </thead>\n",
       "  <tbody>\n",
       "    <tr>\n",
       "      <th>9692</th>\n",
       "      <td>7</td>\n",
       "      <td>9</td>\n",
       "      <td>False</td>\n",
       "    </tr>\n",
       "    <tr>\n",
       "      <th>9729</th>\n",
       "      <td>6</td>\n",
       "      <td>5</td>\n",
       "      <td>False</td>\n",
       "    </tr>\n",
       "    <tr>\n",
       "      <th>9770</th>\n",
       "      <td>0</td>\n",
       "      <td>5</td>\n",
       "      <td>False</td>\n",
       "    </tr>\n",
       "    <tr>\n",
       "      <th>9792</th>\n",
       "      <td>9</td>\n",
       "      <td>4</td>\n",
       "      <td>False</td>\n",
       "    </tr>\n",
       "    <tr>\n",
       "      <th>9839</th>\n",
       "      <td>7</td>\n",
       "      <td>2</td>\n",
       "      <td>False</td>\n",
       "    </tr>\n",
       "  </tbody>\n",
       "</table>\n",
       "</div>"
      ],
      "text/plain": [
       "      predicted  labels  comparison\n",
       "9692          7       9       False\n",
       "9729          6       5       False\n",
       "9770          0       5       False\n",
       "9792          9       4       False\n",
       "9839          7       2       False"
      ]
     },
     "execution_count": 34,
     "metadata": {},
     "output_type": "execute_result"
    }
   ],
   "source": [
    "results[results['comparison']==False].tail()"
   ]
  },
  {
   "cell_type": "code",
   "execution_count": 38,
   "metadata": {},
   "outputs": [
    {
     "data": {
      "image/png": "[encoded data removed]",
      "text/plain": [
       "<Figure size 640x480 with 1 Axes>"
      ]
     },
     "metadata": {},
     "output_type": "display_data"
    }
   ],
   "source": [
    "plt.imshow(test_images[9770],cmap='gray')\n",
    "plt.show()"
   ]
  },
  {
   "cell_type": "code",
   "execution_count": null,
   "metadata": {},
   "outputs": [],
   "source": []
  }
 ],
 "metadata": {
  "kernelspec": {
   "display_name": "Python 3",
   "language": "python",
   "name": "python3"
  },
  "language_info": {
   "codemirror_mode": {
    "name": "ipython",
    "version": 3
   },
   "file_extension": ".py",
   "mimetype": "text/x-python",
   "name": "python",
   "nbconvert_exporter": "python",
   "pygments_lexer": "ipython3",
   "version": "3.11.2"
  }
 },
 "nbformat": 4,
 "nbformat_minor": 2
}
