{
 "cells": [
  {
   "cell_type": "code",
   "execution_count": 35,
   "metadata": {},
   "outputs": [],
   "source": [
    "import pandas as pd\n",
    "from keras.datasets import mnist\n",
    "from keras.models import Sequential\n",
    "from keras.layers import Flatten, Dense\n",
    "from keras.callbacks import ModelCheckpoint\n",
    "from keras.optimizers import Adam\n",
    "import matplotlib.pyplot as plt"
   ]
  },
  {
   "cell_type": "markdown",
   "metadata": {},
   "source": [
    "# Loading Mnist"
   ]
  },
  {
   "cell_type": "code",
   "execution_count": 2,
   "metadata": {},
   "outputs": [],
   "source": [
    "(train_images, train_labels), (test_images, test_labels) = mnist.load_data()"
   ]
  },
  {
   "cell_type": "markdown",
   "metadata": {},
   "source": [
    "## Checking for the first image"
   ]
  },
  {
   "cell_type": "code",
   "execution_count": 7,
   "metadata": {},
   "outputs": [
    {
     "name": "stdout",
     "output_type": "stream",
     "text": [
      "5\n"
     ]
    },
    {
     "data": {
      "image/png": "[encoded data removed]",
      "text/plain": [
       "<Figure size 640x480 with 1 Axes>"
      ]
     },
     "metadata": {},
     "output_type": "display_data"
    }
   ],
   "source": [
    "plt.imshow(train_images[0],cmap='gray')\n",
    "print(train_labels[0])\n",
    "plt.show()"
   ]
  },
  {
   "cell_type": "markdown",
   "metadata": {},
   "source": [
    "# Generating the Model"
   ]
  },
  {
   "cell_type": "code",
   "execution_count": 42,
   "metadata": {},
   "outputs": [
    {
     "name": "stdout",
     "output_type": "stream",
     "text": [
      "Model: \"sequential_3\"\n",
      "_________________________________________________________________\n",
      " Layer (type)                Output Shape              Param #   \n",
      "=================================================================\n",
      " flatten_3 (Flatten)         (None, 784)               0         \n",
      "                                                                 \n",
      " dense_9 (Dense)             (None, 512)               401920    \n",
      "                                                                 \n",
      " dense_10 (Dense)            (None, 512)               262656    \n",
      "                                                                 \n",
      " dense_11 (Dense)            (None, 10)                5130      \n",
      "                                                                 \n",
      "=================================================================\n",
      "Total params: 669706 (2.55 MB)\n",
      "Trainable params: 669706 (2.55 MB)\n",
      "Non-trainable params: 0 (0.00 Byte)\n",
      "_________________________________________________________________\n"
     ]
    }
   ],
   "source": [
    "model = Sequential()\n",
    "model.add(Flatten(input_shape=(28,28)))\n",
    "model.add(Dense(512,activation='relu'))\n",
    "model.add(Dense(512,activation='relu'))\n",
    "model.add(Dense(10,activation='softmax'))\n",
    "model.summary()\n"
   ]
  },
  {
   "cell_type": "markdown",
   "metadata": {},
   "source": [
    "## Model Training"
   ]
  },
  {
   "cell_type": "code",
   "execution_count": 43,
   "metadata": {},
   "outputs": [
    {
     "name": "stdout",
     "output_type": "stream",
     "text": [
      "Epoch 1/25\n",
      "\n",
      "Epoch 1: val_loss improved from inf to 1.32682, saving model to mnist_best_mlp.hdf5\n",
      "1500/1500 - 17s - loss: 3.2800 - accuracy: 0.8773 - val_loss: 1.3268 - val_accuracy: 0.9252 - 17s/epoch - 11ms/step\n",
      "Epoch 2/25\n",
      "\n",
      "Epoch 2: val_loss improved from 1.32682 to 0.96912, saving model to mnist_best_mlp.hdf5\n",
      "1500/1500 - 17s - loss: 0.7515 - accuracy: 0.9482 - val_loss: 0.9691 - val_accuracy: 0.9417 - 17s/epoch - 11ms/step\n",
      "Epoch 3/25\n",
      "\n",
      "Epoch 3: val_loss improved from 0.96912 to 0.71545, saving model to mnist_best_mlp.hdf5\n",
      "1500/1500 - 16s - loss: 0.3852 - accuracy: 0.9661 - val_loss: 0.7155 - val_accuracy: 0.9545 - 16s/epoch - 11ms/step\n",
      "Epoch 4/25\n",
      "\n",
      "Epoch 4: val_loss did not improve from 0.71545\n",
      "1500/1500 - 17s - loss: 0.2499 - accuracy: 0.9750 - val_loss: 0.7449 - val_accuracy: 0.9519 - 17s/epoch - 11ms/step\n",
      "Epoch 5/25\n",
      "\n",
      "Epoch 5: val_loss improved from 0.71545 to 0.70934, saving model to mnist_best_mlp.hdf5\n",
      "1500/1500 - 16s - loss: 0.1905 - accuracy: 0.9790 - val_loss: 0.7093 - val_accuracy: 0.9545 - 16s/epoch - 11ms/step\n",
      "Epoch 6/25\n",
      "\n",
      "Epoch 6: val_loss improved from 0.70934 to 0.60689, saving model to mnist_best_mlp.hdf5\n",
      "1500/1500 - 17s - loss: 0.1633 - accuracy: 0.9822 - val_loss: 0.6069 - val_accuracy: 0.9635 - 17s/epoch - 11ms/step\n",
      "Epoch 7/25\n",
      "\n",
      "Epoch 7: val_loss did not improve from 0.60689\n",
      "1500/1500 - 16s - loss: 0.1125 - accuracy: 0.9862 - val_loss: 0.6314 - val_accuracy: 0.9636 - 16s/epoch - 11ms/step\n",
      "Epoch 8/25\n",
      "\n",
      "Epoch 8: val_loss did not improve from 0.60689\n",
      "1500/1500 - 17s - loss: 0.1173 - accuracy: 0.9860 - val_loss: 0.6378 - val_accuracy: 0.9623 - 17s/epoch - 12ms/step\n",
      "Epoch 9/25\n",
      "\n",
      "Epoch 9: val_loss did not improve from 0.60689\n",
      "1500/1500 - 16s - loss: 0.0890 - accuracy: 0.9892 - val_loss: 0.6484 - val_accuracy: 0.9611 - 16s/epoch - 11ms/step\n",
      "Epoch 10/25\n",
      "\n",
      "Epoch 10: val_loss did not improve from 0.60689\n",
      "1500/1500 - 17s - loss: 0.0903 - accuracy: 0.9893 - val_loss: 0.6340 - val_accuracy: 0.9663 - 17s/epoch - 11ms/step\n",
      "Epoch 11/25\n",
      "\n",
      "Epoch 11: val_loss improved from 0.60689 to 0.56394, saving model to mnist_best_mlp.hdf5\n",
      "1500/1500 - 17s - loss: 0.0874 - accuracy: 0.9906 - val_loss: 0.5639 - val_accuracy: 0.9685 - 17s/epoch - 11ms/step\n",
      "Epoch 12/25\n",
      "\n",
      "Epoch 12: val_loss did not improve from 0.56394\n",
      "1500/1500 - 16s - loss: 0.0600 - accuracy: 0.9923 - val_loss: 0.5709 - val_accuracy: 0.9667 - 16s/epoch - 11ms/step\n",
      "Epoch 13/25\n",
      "\n",
      "Epoch 13: val_loss did not improve from 0.56394\n",
      "1500/1500 - 16s - loss: 0.0659 - accuracy: 0.9925 - val_loss: 0.5879 - val_accuracy: 0.9689 - 16s/epoch - 11ms/step\n",
      "Epoch 14/25\n",
      "\n",
      "Epoch 14: val_loss did not improve from 0.56394\n",
      "1500/1500 - 16s - loss: 0.0631 - accuracy: 0.9933 - val_loss: 0.5656 - val_accuracy: 0.9697 - 16s/epoch - 11ms/step\n",
      "Epoch 15/25\n",
      "\n",
      "Epoch 15: val_loss did not improve from 0.56394\n",
      "1500/1500 - 17s - loss: 0.0580 - accuracy: 0.9928 - val_loss: 0.5868 - val_accuracy: 0.9671 - 17s/epoch - 11ms/step\n",
      "Epoch 16/25\n",
      "\n",
      "Epoch 16: val_loss did not improve from 0.56394\n",
      "1500/1500 - 16s - loss: 0.0529 - accuracy: 0.9936 - val_loss: 0.5648 - val_accuracy: 0.9707 - 16s/epoch - 11ms/step\n",
      "Epoch 17/25\n",
      "\n",
      "Epoch 17: val_loss did not improve from 0.56394\n",
      "1500/1500 - 17s - loss: 0.0392 - accuracy: 0.9949 - val_loss: 0.5721 - val_accuracy: 0.9696 - 17s/epoch - 11ms/step\n",
      "Epoch 18/25\n",
      "\n",
      "Epoch 18: val_loss improved from 0.56394 to 0.55136, saving model to mnist_best_mlp.hdf5\n",
      "1500/1500 - 16s - loss: 0.0550 - accuracy: 0.9935 - val_loss: 0.5514 - val_accuracy: 0.9707 - 16s/epoch - 11ms/step\n",
      "Epoch 19/25\n",
      "\n",
      "Epoch 19: val_loss did not improve from 0.55136\n",
      "1500/1500 - 17s - loss: 0.0450 - accuracy: 0.9945 - val_loss: 0.5687 - val_accuracy: 0.9736 - 17s/epoch - 11ms/step\n",
      "Epoch 20/25\n",
      "\n",
      "Epoch 20: val_loss improved from 0.55136 to 0.55112, saving model to mnist_best_mlp.hdf5\n",
      "1500/1500 - 16s - loss: 0.0436 - accuracy: 0.9952 - val_loss: 0.5511 - val_accuracy: 0.9736 - 16s/epoch - 11ms/step\n",
      "Epoch 21/25\n",
      "\n",
      "Epoch 21: val_loss did not improve from 0.55112\n",
      "1500/1500 - 17s - loss: 0.0470 - accuracy: 0.9945 - val_loss: 0.5892 - val_accuracy: 0.9728 - 17s/epoch - 11ms/step\n",
      "Epoch 22/25\n",
      "\n",
      "Epoch 22: val_loss did not improve from 0.55112\n",
      "1500/1500 - 17s - loss: 0.0381 - accuracy: 0.9954 - val_loss: 0.5746 - val_accuracy: 0.9724 - 17s/epoch - 11ms/step\n",
      "Epoch 23/25\n",
      "\n",
      "Epoch 23: val_loss did not improve from 0.55112\n",
      "1500/1500 - 17s - loss: 0.0448 - accuracy: 0.9950 - val_loss: 0.5667 - val_accuracy: 0.9722 - 17s/epoch - 11ms/step\n",
      "Epoch 24/25\n",
      "\n",
      "Epoch 24: val_loss did not improve from 0.55112\n",
      "1500/1500 - 16s - loss: 0.0330 - accuracy: 0.9960 - val_loss: 0.5640 - val_accuracy: 0.9728 - 16s/epoch - 11ms/step\n",
      "Epoch 25/25\n",
      "\n",
      "Epoch 25: val_loss did not improve from 0.55112\n",
      "1500/1500 - 17s - loss: 0.0339 - accuracy: 0.9959 - val_loss: 0.6759 - val_accuracy: 0.9707 - 17s/epoch - 11ms/step\n"
     ]
    }
   ],
   "source": [
    "optimizer = Adam(learning_rate=0.0001)\n",
    "model.compile(optimizer=optimizer,\n",
    "              loss='sparse_categorical_crossentropy',  # for integer labels\n",
    "              metrics=['accuracy'])\n",
    "checkpointer = ModelCheckpoint(filepath='mnist_best_mlp.hdf5',verbose=1,save_best_only=True)\n",
    "history = model.fit(train_images, train_labels, \n",
    "          callbacks=[checkpointer],\n",
    "          verbose=2,\n",
    "          epochs=25,\n",
    "          batch_size=32,\n",
    "          validation_split=0.2)"
   ]
  },
  {
   "cell_type": "markdown",
   "metadata": {},
   "source": [
    "# Checking Results"
   ]
  },
  {
   "cell_type": "code",
   "execution_count": 46,
   "metadata": {},
   "outputs": [
    {
     "data": {
      "image/png": "[encoded data removed]",
      "text/plain": [
       "<Figure size 1000x600 with 1 Axes>"
      ]
     },
     "metadata": {},
     "output_type": "display_data"
    }
   ],
   "source": [
    "fig,ax = plt.subplots(1,1,figsize=(10,6))\n",
    "# ['loss', 'accuracy', 'val_loss', 'val_accuracy']\n",
    "# ax.plot(history.history['val_accuracy'])\n",
    "ax.plot(history.history['val_loss'])\n",
    "ax.set_title('Validation Loss')\n",
    "\n",
    "plt.show()"
   ]
  },
  {
   "cell_type": "code",
   "execution_count": 45,
   "metadata": {},
   "outputs": [
    {
     "name": "stdout",
     "output_type": "stream",
     "text": [
      "313/313 [==============================] - 1s 3ms/step - loss: 0.5907 - accuracy: 0.9707\n",
      "Test accuracy: 0.9707000255584717\n"
     ]
    }
   ],
   "source": [
    "test_loss, test_acc = model.evaluate(test_images, test_labels)\n",
    "print(f'Test accuracy: {test_acc}')"
   ]
  },
  {
   "cell_type": "markdown",
   "metadata": {},
   "source": [
    "# Check for prediction"
   ]
  },
  {
   "cell_type": "code",
   "execution_count": 90,
   "metadata": {},
   "outputs": [
    {
     "name": "stdout",
     "output_type": "stream",
     "text": [
      "1/1 [==============================] - 0s 22ms/step\n"
     ]
    },
    {
     "data": {
      "text/html": [
       "<div>\n",
       "<style scoped>\n",
       "    .dataframe tbody tr th:only-of-type {\n",
       "        vertical-align: middle;\n",
       "    }\n",
       "\n",
       "    .dataframe tbody tr th {\n",
       "        vertical-align: top;\n",
       "    }\n",
       "\n",
       "    .dataframe thead th {\n",
       "        text-align: right;\n",
       "    }\n",
       "</style>\n",
       "<table border=\"1\" class=\"dataframe\">\n",
       "  <thead>\n",
       "    <tr style=\"text-align: right;\">\n",
       "      <th></th>\n",
       "      <th>Probability</th>\n",
       "    </tr>\n",
       "  </thead>\n",
       "  <tbody>\n",
       "    <tr>\n",
       "      <th>0</th>\n",
       "      <td>0.0</td>\n",
       "    </tr>\n",
       "    <tr>\n",
       "      <th>1</th>\n",
       "      <td>0.0</td>\n",
       "    </tr>\n",
       "    <tr>\n",
       "      <th>2</th>\n",
       "      <td>0.0</td>\n",
       "    </tr>\n",
       "    <tr>\n",
       "      <th>3</th>\n",
       "      <td>0.0</td>\n",
       "    </tr>\n",
       "    <tr>\n",
       "      <th>4</th>\n",
       "      <td>0.0</td>\n",
       "    </tr>\n",
       "    <tr>\n",
       "      <th>5</th>\n",
       "      <td>0.0</td>\n",
       "    </tr>\n",
       "    <tr>\n",
       "      <th>6</th>\n",
       "      <td>0.0</td>\n",
       "    </tr>\n",
       "    <tr>\n",
       "      <th>7</th>\n",
       "      <td>1.0</td>\n",
       "    </tr>\n",
       "    <tr>\n",
       "      <th>8</th>\n",
       "      <td>0.0</td>\n",
       "    </tr>\n",
       "    <tr>\n",
       "      <th>9</th>\n",
       "      <td>0.0</td>\n",
       "    </tr>\n",
       "  </tbody>\n",
       "</table>\n",
       "</div>"
      ],
      "text/plain": [
       "   Probability\n",
       "0          0.0\n",
       "1          0.0\n",
       "2          0.0\n",
       "3          0.0\n",
       "4          0.0\n",
       "5          0.0\n",
       "6          0.0\n",
       "7          1.0\n",
       "8          0.0\n",
       "9          0.0"
      ]
     },
     "execution_count": 90,
     "metadata": {},
     "output_type": "execute_result"
    }
   ],
   "source": [
    "prediction = model.predict(test_images[243].reshape(1,28,28))\n",
    "probability_df = pd.DataFrame(prediction.T,columns=['Probability'])\n",
    "probability_df['Probability'] = probability_df['Probability'].round(2)\n",
    "probability_df"
   ]
  },
  {
   "cell_type": "code",
   "execution_count": 91,
   "metadata": {},
   "outputs": [
    {
     "data": {
      "image/png": "[encoded data removed]",
      "text/plain": [
       "<Figure size 640x480 with 1 Axes>"
      ]
     },
     "metadata": {},
     "output_type": "display_data"
    }
   ],
   "source": [
    "plt.imshow(test_images[243],cmap='gray')\n",
    "plt.show()"
   ]
  },
  {
   "cell_type": "code",
   "execution_count": null,
   "metadata": {},
   "outputs": [],
   "source": []
  }
 ],
 "metadata": {
  "kernelspec": {
   "display_name": "Python 3",
   "language": "python",
   "name": "python3"
  },
  "language_info": {
   "codemirror_mode": {
    "name": "ipython",
    "version": 3
   },
   "file_extension": ".py",
   "mimetype": "text/x-python",
   "name": "python",
   "nbconvert_exporter": "python",
   "pygments_lexer": "ipython3",
   "version": "3.11.2"
  }
 },
 "nbformat": 4,
 "nbformat_minor": 2
}
